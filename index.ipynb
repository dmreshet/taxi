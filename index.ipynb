{
 "cells": [
  {
   "cell_type": "markdown",
   "metadata": {},
   "source": [
    "### week 7\n"
   ]
  },
  {
   "cell_type": "code",
   "execution_count": null,
   "metadata": {},
   "outputs": [],
   "source": [
    "! jupyter nbextension enable --py --sys-prefix widgetsnbextension"
   ]
  },
  {
   "cell_type": "code",
   "execution_count": null,
   "metadata": {
    "collapsed": true
   },
   "outputs": [],
   "source": [
    "! source activate example-environment"
   ]
  },
  {
   "cell_type": "code",
   "execution_count": null,
   "metadata": {
    "collapsed": true
   },
   "outputs": [],
   "source": [
    "import numpy as np\n",
    "import pandas as pd\n",
    "import datetime as dt\n",
    "import scipy.stats as stats "
   ]
  },
  {
   "cell_type": "code",
   "execution_count": null,
   "metadata": {},
   "outputs": [],
   "source": [
    "from bokeh.plotting import figure, output_notebook, show\n",
    "from bokeh.tile_providers import STAMEN_TERRAIN\n",
    "output_notebook()\n",
    "\n",
    "import datashader as ds\n",
    "import datashader.transfer_functions as tf\n",
    "from datashader.colors import Hot, viridis\n",
    "from datashader.utils import export_image\n",
    "from datashader.bokeh_ext import InteractiveImage\n",
    "\n",
    "from functools import partial\n",
    "\n",
    "import param\n",
    "import paramnb\n",
    "%matplotlib inline\n",
    "import matplotlib.pyplot as plt"
   ]
  },
  {
   "cell_type": "code",
   "execution_count": null,
   "metadata": {},
   "outputs": [],
   "source": [
    "%%time\n",
    "df_main = pd.read_csv('yellow_tripdata_2016-06_ed.xz', parse_dates=['tpep_pickup_datetime'])\n",
    "df_main.set_index('tpep_pickup_datetime', inplace=True)"
   ]
  },
  {
   "cell_type": "code",
   "execution_count": null,
   "metadata": {},
   "outputs": [],
   "source": [
    "df_loc = pd.read_csv('time_region_102_pickup_count.xz')\n",
    "\n",
    "df_loc = df_loc.set_index('datetime')\n",
    "df_loc = df_loc['2016-05-31 23:00:00':]\n",
    "regions_list = df_loc.columns.astype(int)"
   ]
  },
  {
   "cell_type": "code",
   "execution_count": null,
   "metadata": {
    "collapsed": true
   },
   "outputs": [],
   "source": [
    "# загружаем предсказания количества поездок в июне 2016\n",
    "predictions = pd.read_csv('predictions_2016-06.xz', index_col=0)\n",
    "\n",
    "loc = predictions['id'].str.split('_')\n",
    "\n",
    "regions = []; dates = []; hours = []; forwards = []\n",
    "for x in loc:\n",
    "    regions.append(x[0])\n",
    "    dates.append(x[1])\n",
    "    hours.append(x[2])\n",
    "    forwards.append(int(x[3]))\n",
    "\n",
    "df = pd.DataFrame()\n",
    "df['regions'] = regions\n",
    "df['datetime']=  [date+' '+hour for date, hour in zip(dates, hours)]\n",
    "df['predicts'] = forwards\n",
    "df['datetime'] = [pd.datetime.strptime(row, '%Y-%m-%d %H') for row in df['datetime']]\n",
    "df['y'] = predictions['y']\n",
    "df.set_index('datetime', inplace=True)\n",
    "df_june_predictions = df"
   ]
  },
  {
   "cell_type": "code",
   "execution_count": null,
   "metadata": {
    "collapsed": true
   },
   "outputs": [],
   "source": [
    "class GetData(param.Parameterized):\n",
    "    hour = param.Integer(default=3, bounds=(0,23))\n",
    "    date = param.ObjectSelector(default='2016-06-01', \n",
    "       objects=np.unique([x.strftime('%Y-%m-%d') for x in  df_loc.index.astype('<M8[D]')]),\n",
    "                check_on_set=True)"
   ]
  },
  {
   "cell_type": "code",
   "execution_count": null,
   "metadata": {
    "collapsed": true
   },
   "outputs": [],
   "source": [
    "def prep_pred():\n",
    "    df_pred = df_june_predictions[df_june_predictions.predicts == 1][['regions', 'y']]\n",
    "    df_pred.columns = ['regions', 'pickups']\n",
    "    return df_pred"
   ]
  },
  {
   "cell_type": "code",
   "execution_count": null,
   "metadata": {
    "collapsed": true
   },
   "outputs": [],
   "source": [
    "def prep_real():\n",
    "    t = list()\n",
    "    ind_list  = list()\n",
    "    i = 0 \n",
    "    index = df_loc.index.values\n",
    "    columns = df_loc.columns\n",
    "    j = -1\n",
    "    for row in df_loc.values:\n",
    "        for i in range(len(columns)):\n",
    "            t.append([columns[i], row[i]])\n",
    "            if j < 0:\n",
    "                k = 0\n",
    "            else:\n",
    "                k = j\n",
    "            ind_list.append(index[k])\n",
    "        j = j + 1\n",
    "    df_real = pd.DataFrame(t, index=ind_list, columns = ['regions', 'pickups'])\n",
    "    return df_real"
   ]
  },
  {
   "cell_type": "code",
   "execution_count": null,
   "metadata": {
    "collapsed": true
   },
   "outputs": [],
   "source": [
    "regions = pd.read_csv('regions.csv', sep=';')"
   ]
  },
  {
   "cell_type": "code",
   "execution_count": null,
   "metadata": {
    "collapsed": true
   },
   "outputs": [],
   "source": [
    "def region_to_coordinates(row):\n",
    "    region = int(row[0])\n",
    "    pickups = row[1]\n",
    "    coordinates = regions[regions.region == region].values[0]\n",
    "    return np.mean([coordinates[3], coordinates[4]]), np.mean([coordinates[1], coordinates[2]]), pickups"
   ]
  },
  {
   "cell_type": "code",
   "execution_count": null,
   "metadata": {},
   "outputs": [],
   "source": [
    "%%time\n",
    "df_pred = prep_pred().apply(region_to_coordinates,  axis = 1)\n",
    "df_real = prep_real().apply(region_to_coordinates,  axis = 1)"
   ]
  },
  {
   "cell_type": "code",
   "execution_count": null,
   "metadata": {
    "collapsed": true
   },
   "outputs": [],
   "source": [
    "def prepare_data_for_map():\n",
    "    date = str(GetData.date)\n",
    "    hour = str(GetData.hour)\n",
    "    if len(hour) == 1:\n",
    "        hour = '0%s' % hour\n",
    "    date_str = '%s %s:00:00' %(date, hour)\n",
    "    \n",
    "    pred_arr = df_pred[df_pred.index == date_str].values\n",
    "    real_arr = df_real[df_real.index == date_str].values\n",
    "    \n",
    "    return pred_arr, real_arr"
   ]
  },
  {
   "cell_type": "code",
   "execution_count": null,
   "metadata": {
    "collapsed": true
   },
   "outputs": [],
   "source": [
    "import folium\n",
    "from folium.plugins import HeatMap\n",
    "from folium import plugins"
   ]
  },
  {
   "cell_type": "code",
   "execution_count": null,
   "metadata": {
    "collapsed": true
   },
   "outputs": [],
   "source": [
    "def visualize_map(arr):\n",
    "    new_york_coordinates = (40.72, -73.90)\n",
    "    map_ny = folium.Map(width=700,height=500, location=new_york_coordinates, zoom_start=11, detect_retina=True)\n",
    "\n",
    "    szt = plugins.ScrollZoomToggler() # Turn off mouse scrolling\n",
    "    map_ny.add_child(szt)\n",
    "    map_ny._repr_html_()\n",
    "    map_ny\n",
    "\n",
    "    HeatMap(arr, radius=12).add_to(map_ny)        \n",
    "    return map_ny"
   ]
  },
  {
   "cell_type": "markdown",
   "metadata": {},
   "source": [
    "#### 1) карты с визуализацией реального и прогнозируемого спроса на такси в выбираемый пользователем момент времени "
   ]
  },
  {
   "cell_type": "code",
   "execution_count": null,
   "metadata": {},
   "outputs": [],
   "source": [
    "# выберите дату, час и нажмите кнопку\n",
    "paramnb.Widgets(GetData, button=True, next_n=3)"
   ]
  },
  {
   "cell_type": "code",
   "execution_count": null,
   "metadata": {
    "collapsed": true
   },
   "outputs": [],
   "source": [
    "arr_real, arr_pred = prepare_data_for_map()\n",
    "real_map = visualize_map(arr_real)\n",
    "pred_map = visualize_map(arr_pred)"
   ]
  },
  {
   "cell_type": "code",
   "execution_count": null,
   "metadata": {},
   "outputs": [],
   "source": [
    "print ('Предсказанный спрос')\n",
    "real_map"
   ]
  },
  {
   "cell_type": "code",
   "execution_count": null,
   "metadata": {},
   "outputs": [],
   "source": [
    "print ('Реальный спрос')\n",
    "pred_map"
   ]
  },
  {
   "cell_type": "markdown",
   "metadata": {},
   "source": [
    "#### 2) временной ряд фактического и прогнозируемого спроса на такси в выбираемой области."
   ]
  },
  {
   "cell_type": "code",
   "execution_count": null,
   "metadata": {
    "collapsed": true
   },
   "outputs": [],
   "source": [
    "class GetCell(param.Parameterized):\n",
    "    cell = param.ObjectSelector(default=regions_list[0], objects=regions_list, check_on_set=True)"
   ]
  },
  {
   "cell_type": "code",
   "execution_count": null,
   "metadata": {
    "collapsed": true
   },
   "outputs": [],
   "source": [
    "from sklearn.metrics import mean_absolute_error"
   ]
  },
  {
   "cell_type": "code",
   "execution_count": null,
   "metadata": {
    "collapsed": true
   },
   "outputs": [],
   "source": [
    "def prepare_data():\n",
    "    region = GetCell.cell\n",
    "    # получаем предсказанное количество поездок в выбранный день и час (из ранее полученной модели) \n",
    "    df = df_june_predictions.copy()\n",
    "    df = df[df['regions'] == str(region)]\n",
    "    df1 = df[df['predicts'] == int(1)].copy()\n",
    "    df2 = df[df['predicts'] == int(6)].copy()\n",
    "    df = pd.concat([df1, df2[-5:]], axis=0)\n",
    "    prediction_nums = df\n",
    "    hours = pd.date_range('2016-06-01 00:00:00', periods=720, freq='H')\n",
    "    prediction_nums.index = hours\n",
    "    pred_arr = prediction_nums['y'].values\n",
    "    real_arr = df_loc.loc[:,str(region)].values\n",
    "    \n",
    "    return pred_arr, real_arr"
   ]
  },
  {
   "cell_type": "code",
   "execution_count": null,
   "metadata": {
    "collapsed": true
   },
   "outputs": [],
   "source": [
    "def plot_real_pred(real, pred):\n",
    "    plt.figure(figsize=(18,6))\n",
    "    plt.plot(real, 'r', label='predicted')\n",
    "    plt.plot(pred, 'b', label='real values')\n",
    "    plt.title('2016 June, cell: {}, MAE: {}, XGBRegressor'.format(region, mean_absolute_error(real_arr, pred_arr)))\n",
    "    plt.ylabel('pickups')\n",
    "    plt.xlabel('hours in june 2016')\n",
    "    plt.legend()\n",
    "    plt.show()"
   ]
  },
  {
   "cell_type": "code",
   "execution_count": null,
   "metadata": {},
   "outputs": [],
   "source": [
    "# выберите интересующую ячейку (регион) и намите на кнопку\n",
    "paramnb.Widgets(GetCell, button=True, next_n=1)"
   ]
  },
  {
   "cell_type": "code",
   "execution_count": null,
   "metadata": {},
   "outputs": [],
   "source": [
    "pred_arr, real_arr = prepare_data()\n",
    "print ('Сравнение первых 100 часов')\n",
    "plot_real_pred(pred_arr[:100], real_arr[:100])\n",
    "print ('Сравнение всего июня')\n",
    "plot_real_pred(pred_arr, real_arr)"
   ]
  },
  {
   "cell_type": "code",
   "execution_count": null,
   "metadata": {
    "collapsed": true
   },
   "outputs": [],
   "source": []
  }
 ],
 "metadata": {
  "anaconda-cloud": {},
  "kernelspec": {
   "display_name": "Python 3",
   "language": "python",
   "name": "python3"
  },
  "language_info": {
   "codemirror_mode": {
    "name": "ipython",
    "version": 3
   },
   "file_extension": ".py",
   "mimetype": "text/x-python",
   "name": "python",
   "nbconvert_exporter": "python",
   "pygments_lexer": "ipython3",
   "version": "3.6.1"
  }
 },
 "nbformat": 4,
 "nbformat_minor": 2
}
